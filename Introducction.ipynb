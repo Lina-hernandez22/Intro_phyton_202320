{
  "nbformat": 4,
  "nbformat_minor": 0,
  "metadata": {
    "colab": {
      "provenance": [],
      "authorship_tag": "ABX9TyPdCdi/n0iMXqj9XoqzNc2P",
      "include_colab_link": true
    },
    "kernelspec": {
      "name": "python3",
      "display_name": "Python 3"
    },
    "language_info": {
      "name": "python"
    }
  },
  "cells": [
    {
      "cell_type": "markdown",
      "metadata": {
        "id": "view-in-github",
        "colab_type": "text"
      },
      "source": [
        "<a href=\"https://colab.research.google.com/github/Lina-hernandez22/Intro_phyton_202320/blob/main/Introducction.ipynb\" target=\"_parent\"><img src=\"https://colab.research.google.com/assets/colab-badge.svg\" alt=\"Open In Colab\"/></a>"
      ]
    },
    {
      "cell_type": "markdown",
      "source": [
        "#INTRODUCCION A PHYTON\n",
        "#Curso de programacion de algoritmia UPB 202320\n",
        "\n",
        "- Nombre: Lina Hernández\n",
        "- ID: 000486894\n",
        "- Email: lina.hernandezu@upb.edu.co\n",
        "\n",
        "Esta es la expresion de la linea recta:\n",
        "$$y = mx + b$$\n",
        "\n",
        "donde $x$ es la posicion\n",
        "\n",
        "\n",
        "\n"
      ],
      "metadata": {
        "id": "JxnkkppyFNsA"
      }
    },
    {
      "cell_type": "code",
      "execution_count": null,
      "metadata": {
        "id": "9uc4e_SaDs7Z"
      },
      "outputs": [],
      "source": []
    }
  ]
}