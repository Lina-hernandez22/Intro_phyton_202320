{
  "nbformat": 4,
  "nbformat_minor": 0,
  "metadata": {
    "colab": {
      "provenance": [],
      "authorship_tag": "ABX9TyP0mqikTVSSXymF4qE/jVMW",
      "include_colab_link": true
    },
    "kernelspec": {
      "name": "python3",
      "display_name": "Python 3"
    },
    "language_info": {
      "name": "python"
    }
  },
  "cells": [
    {
      "cell_type": "markdown",
      "metadata": {
        "id": "view-in-github",
        "colab_type": "text"
      },
      "source": [
        "<a href=\"https://colab.research.google.com/github/Lina-hernandez22/Intro_phyton_202320/blob/main/Introducction.ipynb\" target=\"_parent\"><img src=\"https://colab.research.google.com/assets/colab-badge.svg\" alt=\"Open In Colab\"/></a>"
      ]
    },
    {
      "cell_type": "markdown",
      "source": [
        "#INTRODUCCION A PHYTON\n",
        "#Curso de programacion de algoritmia UPB 202320\n",
        "\n",
        "- Nombre: Lina Hernández\n",
        "- ID: 000486894\n",
        "- Email: lina.hernandezu@upb.edu.co\n",
        "\n",
        "Esta es la expresion de la linea recta:\n",
        "$$y = mx + b$$\n",
        "\n",
        "donde $x$ es la posicion\n",
        "\n",
        "\n",
        "\n"
      ],
      "metadata": {
        "id": "JxnkkppyFNsA"
      }
    },
    {
      "cell_type": "code",
      "execution_count": 2,
      "metadata": {
        "id": "9uc4e_SaDs7Z",
        "outputId": "35c09b2b-d43a-4825-da60-337d9e67d7f8",
        "colab": {
          "base_uri": "https://localhost:8080/"
        }
      },
      "outputs": [
        {
          "output_type": "stream",
          "name": "stdout",
          "text": [
            "Hello, Lina\n"
          ]
        }
      ],
      "source": [
        "# comentarios\n",
        "# Mis primeras lineas de codigo en phyton\n",
        "name = 'Lina'\n",
        "print (\"Hello,\", name)"
      ]
    },
    {
      "cell_type": "code",
      "source": [
        "#comentarios\n",
        "firstname = 'Lina'\n",
        "lastname = 'Hernandez'\n",
        "age = '18'\n",
        "city = 'monteria'\n",
        "food = 'pizza hawaiana'\n",
        "print (\"Mi nombre es\", firstname,lastname, \"y tengo\" , age, \",Vivo en\", city, \"y me gusta la\" , food)\n"
      ],
      "metadata": {
        "id": "KJQx6bbXQ6xI",
        "outputId": "dbdb70c3-f2ad-4b02-9e2c-f626af5b6df2",
        "colab": {
          "base_uri": "https://localhost:8080/"
        }
      },
      "execution_count": 5,
      "outputs": [
        {
          "output_type": "stream",
          "name": "stdout",
          "text": [
            "Mi nombre es Lina Hernandez y tengo 18 ,Vivo en monteria y me gusta la pizza hawaiana\n"
          ]
        }
      ]
    },
    {
      "cell_type": "code",
      "source": [],
      "metadata": {
        "id": "tGRUSQ8YUnRY"
      },
      "execution_count": null,
      "outputs": []
    }
  ]
}