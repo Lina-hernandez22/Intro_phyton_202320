{
  "nbformat": 4,
  "nbformat_minor": 0,
  "metadata": {
    "colab": {
      "provenance": [],
      "authorship_tag": "ABX9TyPnYQ+/PFyEUgf/+evjw/J2",
      "include_colab_link": true
    },
    "kernelspec": {
      "name": "python3",
      "display_name": "Python 3"
    },
    "language_info": {
      "name": "python"
    }
  },
  "cells": [
    {
      "cell_type": "markdown",
      "metadata": {
        "id": "view-in-github",
        "colab_type": "text"
      },
      "source": [
        "<a href=\"https://colab.research.google.com/github/Lina-hernandez22/Intro_phyton_202320/blob/main/Introducction.ipynb\" target=\"_parent\"><img src=\"https://colab.research.google.com/assets/colab-badge.svg\" alt=\"Open In Colab\"/></a>"
      ]
    },
    {
      "cell_type": "markdown",
      "source": [
        "#INTRODUCCION A PHYTON\n",
        "#Curso de programacion de algoritmia UPB 202320\n",
        "\n",
        "- Nombre: Lina Hernández\n",
        "- ID: 000486894\n",
        "- Email: lina.hernandezu@upb.edu.co\n",
        "\n",
        "Esta es la expresion de la linea recta:\n",
        "$$y = mx + b$$\n",
        "\n",
        "donde $x$ es la posicion\n",
        "\n",
        "\n",
        "\n"
      ],
      "metadata": {
        "id": "JxnkkppyFNsA"
      }
    },
    {
      "cell_type": "code",
      "execution_count": null,
      "metadata": {
        "id": "9uc4e_SaDs7Z",
        "outputId": "35c09b2b-d43a-4825-da60-337d9e67d7f8",
        "colab": {
          "base_uri": "https://localhost:8080/"
        }
      },
      "outputs": [
        {
          "output_type": "stream",
          "name": "stdout",
          "text": [
            "Hello, Lina\n"
          ]
        }
      ],
      "source": [
        "# comentarios\n",
        "# Mis primeras lineas de codigo en phyton\n",
        "name = 'Lina'\n",
        "print (\"Hello,\", name)"
      ]
    },
    {
      "cell_type": "code",
      "source": [
        "#comentarios\n",
        "firstname = 'Lina'\n",
        "lastname = 'Hernandez'\n",
        "age = '18'\n",
        "city = 'monteria'\n",
        "food = 'pizza hawaiana'\n",
        "print (\"Mi nombre es\", firstname,lastname, \"y tengo\" , age, \",Vivo en\", city, \"y me gusta la\" , food)\n"
      ],
      "metadata": {
        "id": "KJQx6bbXQ6xI",
        "outputId": "dbdb70c3-f2ad-4b02-9e2c-f626af5b6df2",
        "colab": {
          "base_uri": "https://localhost:8080/"
        }
      },
      "execution_count": null,
      "outputs": [
        {
          "output_type": "stream",
          "name": "stdout",
          "text": [
            "Mi nombre es Lina Hernandez y tengo 18 ,Vivo en monteria y me gusta la pizza hawaiana\n"
          ]
        }
      ]
    },
    {
      "cell_type": "code",
      "source": [
        "a = 3\n",
        "b = 4.5\n",
        "c = a + b\n",
        "print(type(a))\n",
        "print(type(b))\n",
        "print(c)\n",
        "c = c * a\n",
        "print(c)\n",
        "c = int(c / b)\n",
        "print(c)\n",
        "d = 0.3\n",
        "c += 0.3\n",
        "print(c)\n",
        "\n"
      ],
      "metadata": {
        "id": "tGRUSQ8YUnRY",
        "outputId": "d7d49764-6b3e-45f9-8eb1-9d5306bc161d",
        "colab": {
          "base_uri": "https://localhost:8080/"
        }
      },
      "execution_count": 7,
      "outputs": [
        {
          "output_type": "stream",
          "name": "stdout",
          "text": [
            "<class 'int'>\n",
            "<class 'float'>\n",
            "7.5\n",
            "22.5\n",
            "5\n",
            "5.3\n"
          ]
        }
      ]
    },
    {
      "cell_type": "code",
      "source": [
        "m = 5\n",
        "b = 2\n",
        "x = -3\n",
        "y = m * x + b\n",
        "print(y)\n",
        "x = -2\n",
        "y = m * x + b\n",
        "print(y)\n",
        "x = -1\n",
        "y = m * x + b\n",
        "print(y)\n",
        "x = 0\n",
        "y = m * x + b\n",
        "print(y)\n",
        "x = 1\n",
        "y = m * x + b\n",
        "print(y)\n",
        "x = 2\n",
        "y = m * x + b\n",
        "print(y)\n",
        "x = 3\n",
        "y = m * x + b\n",
        "print(y)\n"
      ],
      "metadata": {
        "id": "Wxxqy2Ilal3L",
        "outputId": "4e46b9c8-5bac-4672-bf7b-b89218818520",
        "colab": {
          "base_uri": "https://localhost:8080/"
        }
      },
      "execution_count": 14,
      "outputs": [
        {
          "output_type": "stream",
          "name": "stdout",
          "text": [
            "-13\n",
            "-8\n",
            "-3\n",
            "2\n",
            "7\n",
            "12\n",
            "17\n"
          ]
        }
      ]
    },
    {
      "cell_type": "code",
      "source": [
        "a = 1\n",
        "b = 2\n",
        "c = -8\n",
        "disc = (b ** 2 - 4 * a * c) ** (1/2)\n",
        "x_p = (-b + disc) / (2 * a)\n",
        "x_n = (-b - disc) / (2 * a)\n",
        "print('x_p:' , x_p)\n",
        "print('x_p:', x_n)\n",
        "print('-'*10)\n",
        "a = -3\n",
        "b = -1\n",
        "c = 10\n",
        "disc = (b ** 2 - 4 * a * c) ** (1/2)\n",
        "x_p = (-b + disc) / (2 * a)\n",
        "x_n = (-b - disc) / (2 * a)\n",
        "print('x_p:' , x_p)\n",
        "print('x_p:', x_n)\n",
        "print('-'*10)\n",
        "a = 0.1\n",
        "b = -2\n",
        "c = 0.5\n",
        "disc = (b ** 2 - 4 * a * c) ** (1/2)\n",
        "x_p = (-b + disc) / (2 * a)\n",
        "x_n = (-b - disc) / (2 * a)\n",
        "print('x_p:' , x_p)\n",
        "print('x_p:', x_n)\n",
        "print('-'*10)"
      ],
      "metadata": {
        "id": "GUrn14ZIeOXg",
        "outputId": "95e98fbc-a95a-41ed-bb24-87237addd72c",
        "colab": {
          "base_uri": "https://localhost:8080/"
        }
      },
      "execution_count": 23,
      "outputs": [
        {
          "output_type": "stream",
          "name": "stdout",
          "text": [
            "x_p: 2.0\n",
            "x_p: -4.0\n",
            "----------\n",
            "x_p: -2.0\n",
            "x_p: 1.6666666666666667\n",
            "----------\n",
            "x_p: 19.74679434480896\n",
            "x_p: 0.25320565519103666\n",
            "----------\n"
          ]
        }
      ]
    },
    {
      "cell_type": "code",
      "source": [
        "firtname = 'Lina'\n",
        "lastname = 'Hernandez'\n",
        "fullname = firtname + ' ' + lastname\n",
        "print(fullname)"
      ],
      "metadata": {
        "id": "_kVHzwvvhaw6",
        "outputId": "9d38c75e-3f46-4a01-9374-e6d9334380ab",
        "colab": {
          "base_uri": "https://localhost:8080/"
        }
      },
      "execution_count": 24,
      "outputs": [
        {
          "output_type": "stream",
          "name": "stdout",
          "text": [
            "Lina Hernandez\n"
          ]
        }
      ]
    },
    {
      "cell_type": "code",
      "source": [
        "song = \"\"\"Un elefante se balanceaba\n",
        "sobre la tela de una araña\n",
        "como veía que resistía\n",
        "se fue a buscar otra...no se.\"\"\"\n",
        "print(song)"
      ],
      "metadata": {
        "id": "enLzOn2JkwUF",
        "outputId": "840dc666-21d2-4df2-e897-af1c4f9b35ea",
        "colab": {
          "base_uri": "https://localhost:8080/"
        }
      },
      "execution_count": 25,
      "outputs": [
        {
          "output_type": "stream",
          "name": "stdout",
          "text": [
            "Un elefante se balanceaba\n",
            "sobre la tela de una araña\n",
            "como veía que resistía\n",
            "se fue a buscar otra...no se.\n"
          ]
        }
      ]
    },
    {
      "cell_type": "code",
      "source": [
        "a = 3\n",
        "b = 5\n",
        "print(a == b)\n",
        "print(a != b)\n",
        "print(a > b)\n",
        "print(a < b)\n",
        "print((a == b) and (b + 3 > 5))\n",
        "print((a == b) or (b + 3 > 5))\n",
        "print(not (a == b))"
      ],
      "metadata": {
        "id": "fdsUJDMTl9TE",
        "outputId": "6c05cf3e-6e2e-48ab-80c3-c032975ef074",
        "colab": {
          "base_uri": "https://localhost:8080/"
        }
      },
      "execution_count": 27,
      "outputs": [
        {
          "output_type": "stream",
          "name": "stdout",
          "text": [
            "False\n",
            "True\n",
            "False\n",
            "True\n",
            "False\n",
            "True\n",
            "True\n"
          ]
        }
      ]
    },
    {
      "cell_type": "code",
      "source": [],
      "metadata": {
        "id": "dzUqVKdfm0uB"
      },
      "execution_count": null,
      "outputs": []
    }
  ]
}